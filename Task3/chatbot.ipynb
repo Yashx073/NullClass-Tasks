{
 "cells": [
  {
   "cell_type": "code",
   "execution_count": null,
   "id": "3ab63b96",
   "metadata": {},
   "outputs": [
    {
     "name": "stdout",
     "output_type": "stream",
     "text": [
      "Accuracy: 0.75\n",
      "Precision: 0.83\n",
      "Recall: 0.83\n"
     ]
    },
    {
     "data": {
      "image/png": "[encoded data removed]",
      "text/plain": [
       "<Figure size 640x480 with 2 Axes>"
      ]
     },
     "metadata": {},
     "output_type": "display_data"
    },
    {
     "name": "stdout",
     "output_type": "stream",
     "text": [
      "Bot (Text): I am a large language model, trained by Google.  I'm an AI, and I don't have a name or personal experiences like a human does.  My purpose is to process information and respond to a wide range of prompts and questions.\n",
      "\n"
     ]
    }
   ],
   "source": [
    "# -----------------------------\n",
    "# 1. Imports\n",
    "# -----------------------------\n",
    "import os\n",
    "import itertools\n",
    "import numpy as np\n",
    "import matplotlib.pyplot as plt\n",
    "from PIL import Image\n",
    "from sklearn.metrics import confusion_matrix, accuracy_score, precision_score, recall_score\n",
    "import google.generativeai as genai\n",
    "from tkinter import Tk, filedialog\n",
    "from dotenv import load_dotenv\n",
    "\n",
    "# -----------------------------\n",
    "# 2. Load API Key from .env\n",
    "# -----------------------------\n",
    "load_dotenv()  # Load .env file in notebook folder\n",
    "API_KEY = os.getenv(\"GOOGLE_API_KEY\")\n",
    "if not API_KEY:\n",
    "    raise ValueError(\"❌ GOOGLE_API_KEY not set in .env file!\")\n",
    "\n",
    "genai.configure(api_key=API_KEY)\n",
    "model = genai.GenerativeModel(\"gemini-1.5-flash\")  # Use Gemini 1.5 Flash\n",
    "\n",
    "# -----------------------------\n",
    "# 3. Evaluation Demo\n",
    "# -----------------------------\n",
    "y_true = [\"greet\", \"bye\", \"greet\", \"image\"]\n",
    "y_pred = [\"greet\", \"bye\", \"bye\", \"image\"]\n",
    "\n",
    "labels = list(set(y_true))\n",
    "cm = confusion_matrix(y_true, y_pred, labels=labels)\n",
    "acc = accuracy_score(y_true, y_pred)\n",
    "prec = precision_score(y_true, y_pred, average=\"macro\")\n",
    "rec = recall_score(y_true, y_pred, average=\"macro\")\n",
    "\n",
    "print(f\"Accuracy: {acc:.2f}\")\n",
    "print(f\"Precision: {prec:.2f}\")\n",
    "print(f\"Recall: {rec:.2f}\")\n",
    "\n",
    "# Confusion matrix plot\n",
    "plt.imshow(cm, interpolation=\"nearest\", cmap=plt.cm.Blues)\n",
    "plt.title(\"Confusion Matrix\")\n",
    "plt.colorbar()\n",
    "tick_marks = np.arange(len(labels))\n",
    "plt.xticks(tick_marks, labels, rotation=45)\n",
    "plt.yticks(tick_marks, labels)\n",
    "\n",
    "thresh = cm.max() / 2.\n",
    "for i, j in itertools.product(range(cm.shape[0]), range(cm.shape[1])):\n",
    "    plt.text(j, i, cm[i, j],\n",
    "             horizontalalignment=\"center\",\n",
    "             color=\"white\" if cm[i, j] > thresh else \"black\")\n",
    "plt.ylabel(\"True label\")\n",
    "plt.xlabel(\"Predicted label\")\n",
    "plt.show()\n",
    "\n",
    "# -----------------------------\n",
    "# 4. Chatbot Demo (Text)\n",
    "# -----------------------------\n",
    "try:\n",
    "    response = model.generate_content(\"Hello, who are you?\")\n",
    "    print(\"Bot (Text):\", response.text)\n",
    "except Exception as e:\n",
    "    print(\"Error in text query:\", str(e))\n",
    "\n",
    "# -----------------------------\n",
    "# 5. Image Understanding\n",
    "# -----------------------------\n",
    "try:\n",
    "    # Dynamically select any image\n",
    "    Tk().withdraw()\n",
    "    image_path = filedialog.askopenfilename(title=\"Select an image for the bot to analyze\")\n",
    "    if not image_path:\n",
    "        raise FileNotFoundError(\"No image selected!\")\n",
    "\n",
    "    image = Image.open(image_path)\n",
    "\n",
    "    response = model.generate_content([\n",
    "        \"Describe what you see in this image:\",\n",
    "        image\n",
    "    ])\n",
    "    print(\"Bot (Image Understanding):\", response.text)\n",
    "except Exception as e:\n",
    "    print(\"Error in image query:\", str(e))\n"
   ]
  },
  {
   "cell_type": "code",
   "execution_count": null,
   "id": "c92dd316",
   "metadata": {},
   "outputs": [],
   "source": []
  }
 ],
 "metadata": {
  "kernelspec": {
   "display_name": "base",
   "language": "python",
   "name": "python3"
  },
  "language_info": {
   "codemirror_mode": {
    "name": "ipython",
    "version": 3
   },
   "file_extension": ".py",
   "mimetype": "text/x-python",
   "name": "python",
   "nbconvert_exporter": "python",
   "pygments_lexer": "ipython3",
   "version": "3.12.4"
  }
 },
 "nbformat": 4,
 "nbformat_minor": 5
}
