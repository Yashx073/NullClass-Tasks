{
 "cells": [
  {
   "cell_type": "code",
   "execution_count": 2,
   "id": "8d5f3ab8",
   "metadata": {},
   "outputs": [
    {
     "data": {
      "text/plain": [
       "True"
      ]
     },
     "execution_count": 2,
     "metadata": {},
     "output_type": "execute_result"
    }
   ],
   "source": [
    "import os\n",
    "import re\n",
    "import nltk\n",
    "import joblib\n",
    "import numpy as np\n",
    "import pandas as pd\n",
    "from sklearn.feature_extraction.text import TfidfVectorizer\n",
    "from sklearn.metrics.pairwise import cosine_similarity\n",
    "from rouge_score import rouge_scorer\n",
    "\n",
    "nltk.download(\"punkt\", quiet=True)"
   ]
  },
  {
   "cell_type": "code",
   "execution_count": 3,
   "id": "89f0301b",
   "metadata": {},
   "outputs": [],
   "source": [
    "def sentence_tokenize(text):\n",
    "    \"\"\"Split text into clean sentences.\"\"\"\n",
    "    sentences = nltk.sent_tokenize(text)\n",
    "    return [re.sub(r\"\\s+\", \" \", s).strip() for s in sentences]"
   ]
  },
  {
   "cell_type": "code",
   "execution_count": 4,
   "id": "3ecccbcb",
   "metadata": {},
   "outputs": [],
   "source": [
    "class ExtractiveSummarizer:\n",
    "    def __init__(self, vectorizer=None):\n",
    "        self.vectorizer = vectorizer\n",
    "\n",
    "    def fit_vectorizer(self, sentences):\n",
    "        self.vectorizer = TfidfVectorizer()\n",
    "        self.vectorizer.fit(sentences)\n",
    "        return self.vectorizer\n",
    "\n",
    "    def score_sentences(self, sentences):\n",
    "        if self.vectorizer is None:\n",
    "            self.fit_vectorizer(sentences)\n",
    "\n",
    "        tfidf_matrix = self.vectorizer.transform(sentences)\n",
    "        sim_matrix = cosine_similarity(tfidf_matrix)\n",
    "\n",
    "        # Score sentences by total similarity\n",
    "        scores = sim_matrix.sum(axis=1)\n",
    "        return scores\n",
    "\n",
    "    def summarize(self, text, num_sentences=3):\n",
    "        sentences = sentence_tokenize(text)\n",
    "        if len(sentences) <= num_sentences:\n",
    "            return \" \".join(sentences)\n",
    "\n",
    "        if self.vectorizer is None:\n",
    "            self.fit_vectorizer(sentences)\n",
    "\n",
    "        self.vectorizer = self.fit_vectorizer(sentences)\n",
    "        tfidf_matrix = self.vectorizer.transform(sentences)\n",
    "        sim_matrix = cosine_similarity(tfidf_matrix)\n",
    "        scores = sim_matrix.sum(axis=1)\n",
    "\n",
    "        ranked_idx = np.argsort(scores)[::-1]\n",
    "        top_idx = sorted(ranked_idx[:num_sentences])\n",
    "\n",
    "        summary = \" \".join([sentences[i] for i in top_idx])\n",
    "        return summary"
   ]
  },
  {
   "cell_type": "code",
   "execution_count": 5,
   "id": "ed26ccd8",
   "metadata": {},
   "outputs": [
    {
     "data": {
      "text/html": [
       "<div>\n",
       "<style scoped>\n",
       "    .dataframe tbody tr th:only-of-type {\n",
       "        vertical-align: middle;\n",
       "    }\n",
       "\n",
       "    .dataframe tbody tr th {\n",
       "        vertical-align: top;\n",
       "    }\n",
       "\n",
       "    .dataframe thead th {\n",
       "        text-align: right;\n",
       "    }\n",
       "</style>\n",
       "<table border=\"1\" class=\"dataframe\">\n",
       "  <thead>\n",
       "    <tr style=\"text-align: right;\">\n",
       "      <th></th>\n",
       "      <th>document</th>\n",
       "      <th>reference_summary</th>\n",
       "    </tr>\n",
       "  </thead>\n",
       "  <tbody>\n",
       "    <tr>\n",
       "      <th>0</th>\n",
       "      <td>Artificial intelligence is transforming indust...</td>\n",
       "      <td>AI is transforming industries with automation ...</td>\n",
       "    </tr>\n",
       "    <tr>\n",
       "      <th>1</th>\n",
       "      <td>Climate change is one of the biggest global ch...</td>\n",
       "      <td>Climate change is a global challenge with effo...</td>\n",
       "    </tr>\n",
       "  </tbody>\n",
       "</table>\n",
       "</div>"
      ],
      "text/plain": [
       "                                            document  \\\n",
       "0  Artificial intelligence is transforming indust...   \n",
       "1  Climate change is one of the biggest global ch...   \n",
       "\n",
       "                                   reference_summary  \n",
       "0  AI is transforming industries with automation ...  \n",
       "1  Climate change is a global challenge with effo...  "
      ]
     },
     "execution_count": 5,
     "metadata": {},
     "output_type": "execute_result"
    }
   ],
   "source": [
    "data = {\n",
    "    \"document\": [\n",
    "        \"Artificial intelligence is transforming industries. It helps in automation, efficiency, and decision making. Many companies are adopting AI to stay competitive.\",\n",
    "        \"Climate change is one of the biggest global challenges. Governments are working together to reduce emissions. Renewable energy adoption is increasing worldwide.\"\n",
    "    ],\n",
    "    \"reference_summary\": [\n",
    "        \"AI is transforming industries with automation and efficiency.\",\n",
    "        \"Climate change is a global challenge with efforts in emission reduction and renewable energy.\"\n",
    "    ],\n",
    "}\n",
    "\n",
    "df = pd.DataFrame(data)\n",
    "df"
   ]
  },
  {
   "cell_type": "code",
   "execution_count": 6,
   "id": "1aed3e00",
   "metadata": {},
   "outputs": [
    {
     "data": {
      "text/html": [
       "<div>\n",
       "<style scoped>\n",
       "    .dataframe tbody tr th:only-of-type {\n",
       "        vertical-align: middle;\n",
       "    }\n",
       "\n",
       "    .dataframe tbody tr th {\n",
       "        vertical-align: top;\n",
       "    }\n",
       "\n",
       "    .dataframe thead th {\n",
       "        text-align: right;\n",
       "    }\n",
       "</style>\n",
       "<table border=\"1\" class=\"dataframe\">\n",
       "  <thead>\n",
       "    <tr style=\"text-align: right;\">\n",
       "      <th></th>\n",
       "      <th>document</th>\n",
       "      <th>reference_summary</th>\n",
       "      <th>generated_summary</th>\n",
       "    </tr>\n",
       "  </thead>\n",
       "  <tbody>\n",
       "    <tr>\n",
       "      <th>0</th>\n",
       "      <td>Artificial intelligence is transforming indust...</td>\n",
       "      <td>AI is transforming industries with automation ...</td>\n",
       "      <td>It helps in automation, efficiency, and decisi...</td>\n",
       "    </tr>\n",
       "    <tr>\n",
       "      <th>1</th>\n",
       "      <td>Climate change is one of the biggest global ch...</td>\n",
       "      <td>Climate change is a global challenge with effo...</td>\n",
       "      <td>Climate change is one of the biggest global ch...</td>\n",
       "    </tr>\n",
       "  </tbody>\n",
       "</table>\n",
       "</div>"
      ],
      "text/plain": [
       "                                            document  \\\n",
       "0  Artificial intelligence is transforming indust...   \n",
       "1  Climate change is one of the biggest global ch...   \n",
       "\n",
       "                                   reference_summary  \\\n",
       "0  AI is transforming industries with automation ...   \n",
       "1  Climate change is a global challenge with effo...   \n",
       "\n",
       "                                   generated_summary  \n",
       "0  It helps in automation, efficiency, and decisi...  \n",
       "1  Climate change is one of the biggest global ch...  "
      ]
     },
     "execution_count": 6,
     "metadata": {},
     "output_type": "execute_result"
    }
   ],
   "source": [
    "summarizer = ExtractiveSummarizer()\n",
    "\n",
    "generated_summaries = []\n",
    "rouge_scores = []\n",
    "\n",
    "scorer = rouge_scorer.RougeScorer([\"rouge1\", \"rougeL\"], use_stemmer=True)\n",
    "\n",
    "for i, row in df.iterrows():\n",
    "    doc = row[\"document\"]\n",
    "    ref_summary = row[\"reference_summary\"]\n",
    "\n",
    "    gen_summary = summarizer.summarize(doc, num_sentences=2)\n",
    "    generated_summaries.append(gen_summary)\n",
    "\n",
    "    # Compute ROUGE\n",
    "    score = scorer.score(ref_summary, gen_summary)\n",
    "    rouge_scores.append(score)\n",
    "\n",
    "df[\"generated_summary\"] = generated_summaries\n",
    "df"
   ]
  },
  {
   "cell_type": "code",
   "execution_count": 7,
   "id": "60a2dba5",
   "metadata": {},
   "outputs": [
    {
     "name": "stdout",
     "output_type": "stream",
     "text": [
      "ROUGE-1 F1: 0.40804597701149425\n",
      "ROUGE-L F1: 0.32471264367816094\n"
     ]
    }
   ],
   "source": [
    "def avg_rouge(scores, metric):\n",
    "    return np.mean([s[metric].fmeasure for s in scores])\n",
    "\n",
    "print(\"ROUGE-1 F1:\", avg_rouge(rouge_scores, \"rouge1\"))\n",
    "print(\"ROUGE-L F1:\", avg_rouge(rouge_scores, \"rougeL\"))\n"
   ]
  },
  {
   "cell_type": "code",
   "execution_count": 8,
   "id": "dcfbc860",
   "metadata": {},
   "outputs": [
    {
     "name": "stdout",
     "output_type": "stream",
     "text": [
      "Vectorizer saved at models/vectorizer.pkl\n"
     ]
    }
   ],
   "source": [
    "os.makedirs(\"models\", exist_ok=True)\n",
    "joblib.dump(summarizer.vectorizer, \"models/vectorizer.pkl\")\n",
    "print(\"Vectorizer saved at models/vectorizer.pkl\")"
   ]
  },
  {
   "cell_type": "code",
   "execution_count": 9,
   "id": "89b8afbb",
   "metadata": {},
   "outputs": [
    {
     "name": "stdout",
     "output_type": "stream",
     "text": [
      "\n",
      "Original Text:\n",
      " Space exploration has led to many technological advancements. Satellites provide weather forecasting, communication, and navigation. Future missions aim for Mars colonization.\n",
      "\n",
      "Generated Summary:\n",
      " Satellites provide weather forecasting, communication, and navigation. Future missions aim for Mars colonization.\n"
     ]
    }
   ],
   "source": [
    "loaded_vectorizer = joblib.load(\"models/vectorizer.pkl\")\n",
    "summarizer_loaded = ExtractiveSummarizer(vectorizer=loaded_vectorizer)\n",
    "\n",
    "test_text = (\n",
    "    \"Space exploration has led to many technological advancements. \"\n",
    "    \"Satellites provide weather forecasting, communication, and navigation. \"\n",
    "    \"Future missions aim for Mars colonization.\"\n",
    ")\n",
    "\n",
    "print(\"\\nOriginal Text:\\n\", test_text)\n",
    "print(\"\\nGenerated Summary:\\n\", summarizer_loaded.summarize(test_text, num_sentences=2))"
   ]
  }
 ],
 "metadata": {
  "kernelspec": {
   "display_name": "base",
   "language": "python",
   "name": "python3"
  },
  "language_info": {
   "codemirror_mode": {
    "name": "ipython",
    "version": 3
   },
   "file_extension": ".py",
   "mimetype": "text/x-python",
   "name": "python",
   "nbconvert_exporter": "python",
   "pygments_lexer": "ipython3",
   "version": "3.12.4"
  }
 },
 "nbformat": 4,
 "nbformat_minor": 5
}
